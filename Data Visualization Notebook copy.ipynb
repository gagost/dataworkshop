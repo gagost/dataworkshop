{
    "cells": [
        {
            "metadata": {
                "collapsed": true
            },
            "cell_type": "markdown",
            "source": "Install libraries "
        },
        {
            "metadata": {},
            "cell_type": "code",
            "source": "import pandas as pd\nfrom scipy import stats\nimport matplotlib as mpl\nimport numpy as np\nimport seaborn as sns\nimport matplotlib.pyplot as plt",
            "execution_count": null,
            "outputs": []
        },
        {
            "metadata": {},
            "cell_type": "markdown",
            "source": "Import data from git url"
        },
        {
            "metadata": {},
            "cell_type": "code",
            "source": "url='https://raw.githubusercontent.com/gagost/dataworkshop/cf6e1a6af9c4cfef8af0e963ee4d4ef6aaa07aef/30March_Data_Odontometric_csv.csv'\ndf = pd.read_csv(url, encoding= 'unicode_escape')",
            "execution_count": null,
            "outputs": []
        },
        {
            "metadata": {},
            "cell_type": "markdown",
            "source": "Some housekeeping stuff"
        },
        {
            "metadata": {},
            "cell_type": "code",
            "source": "#Update pandas parameters \npd.set_option('display.max_rows', None)\npd.set_option('display.max_columns', None)\npd.set_option('display.width', None)\npd.set_option('display.max_colwidth', None)",
            "execution_count": null,
            "outputs": []
        },
        {
            "metadata": {},
            "cell_type": "markdown",
            "source": "You can use python as an overpowered calculator if you want to"
        },
        {
            "metadata": {
                "scrolled": true
            },
            "cell_type": "code",
            "source": "print(8675300+9)",
            "execution_count": null,
            "outputs": []
        },
        {
            "metadata": {},
            "cell_type": "markdown",
            "source": "It's easy to get python to print back comments to you"
        },
        {
            "metadata": {},
            "cell_type": "code",
            "source": "print(\"I love coding!\")",
            "execution_count": null,
            "outputs": []
        },
        {
            "metadata": {},
            "cell_type": "code",
            "source": "print(\"This is the bee's knees\")",
            "execution_count": null,
            "outputs": []
        },
        {
            "metadata": {},
            "cell_type": "markdown",
            "source": "There are a few ways to make python \"ignore\" parts of code. Super useful if you want to write notes, make contingencies, or if you are still working on the best way to code"
        },
        {
            "metadata": {},
            "cell_type": "code",
            "source": "print(\"Go\")\n\n# is good for silencing short comments\n\nprint(\"Little\")\n\n\"\"\"\nBut for long, multi-line comments you want to go with the triple quotes\n\"\"\"\n\nprint(\"Rockstar\")",
            "execution_count": null,
            "outputs": []
        },
        {
            "metadata": {},
            "cell_type": "code",
            "source": "#Objects and object storage are essential parts of any code-based stats program\n\npeptalk=print(\"You've got this\")\npeptalk",
            "execution_count": null,
            "outputs": []
        },
        {
            "metadata": {},
            "cell_type": "code",
            "source": "list=['I','Love','Python']\nlist",
            "execution_count": null,
            "outputs": []
        },
        {
            "metadata": {},
            "cell_type": "markdown",
            "source": "Run some quick descriptive statistics to ensure the data imported correctly and perform basic data exploration"
        },
        {
            "metadata": {
                "scrolled": true
            },
            "cell_type": "code",
            "source": "#Shows the first 10 rows of the data frame\ndf.head(10)",
            "execution_count": null,
            "outputs": []
        },
        {
            "metadata": {},
            "cell_type": "markdown",
            "source": "Let's get a quick count of the each variable. I'll give you the code for a loop that'll run through the whole spreadsheet. \"False\" tells us how many observations we have."
        },
        {
            "metadata": {},
            "cell_type": "code",
            "source": "missing_data=df.isnull()\nresult=[]\nfor column in missing_data.columns.values.tolist():\n    na=missing_data[column].value_counts()\n    result.append(na)\nprint(result)\ndf_na=pd.DataFrame(result)\nnas=df_na.reset_index()",
            "execution_count": null,
            "outputs": []
        },
        {
            "metadata": {},
            "cell_type": "code",
            "source": "#Gives summary statistics (n, mean, standard deviations, range) per variable\ndf.describe()",
            "execution_count": null,
            "outputs": []
        },
        {
            "metadata": {},
            "cell_type": "markdown",
            "source": "Let's make some histograms! "
        },
        {
            "metadata": {},
            "cell_type": "code",
            "source": "plt.hist(df[['Bi_UCMD_mm']])",
            "execution_count": null,
            "outputs": []
        },
        {
            "metadata": {},
            "cell_type": "code",
            "source": "plt.hist(df[['Bi_UI1BL_mm']],color='red')",
            "execution_count": null,
            "outputs": []
        },
        {
            "metadata": {
                "scrolled": true
            },
            "cell_type": "code",
            "source": "plt.hist(df[['Bi_UM1MLDB_mm']],color='red',edgecolor='yellow',linewidth=1)",
            "execution_count": null,
            "outputs": []
        },
        {
            "metadata": {},
            "cell_type": "code",
            "source": "plt.hist(df[['Bi_UM1MLDB_mm']],color='red',edgecolor='yellow',linewidth=3)",
            "execution_count": null,
            "outputs": []
        },
        {
            "metadata": {},
            "cell_type": "markdown",
            "source": "# Now make some histos of your own in the cells below! Shout out if you find any abnormal distributions so we can show the class."
        },
        {
            "metadata": {},
            "cell_type": "code",
            "source": "#Here's a list of the variables to make it easier for you. Copy and paste your way to victory!\nprint(df.columns.values)",
            "execution_count": null,
            "outputs": []
        },
        {
            "metadata": {},
            "cell_type": "code",
            "source": "",
            "execution_count": null,
            "outputs": []
        },
        {
            "metadata": {},
            "cell_type": "code",
            "source": "",
            "execution_count": null,
            "outputs": []
        },
        {
            "metadata": {},
            "cell_type": "code",
            "source": "",
            "execution_count": null,
            "outputs": []
        },
        {
            "metadata": {},
            "cell_type": "markdown",
            "source": "# Cool. Now let's make some pretty pictures. We'll start with categorical variables."
        },
        {
            "metadata": {
                "scrolled": true
            },
            "cell_type": "code",
            "source": "#Boxplots\n\n#Lets subset the Incisal MD values\nIncisors=df[[\"Bi_UI1MD_mm\",\"Bi_UI2MD_mm\",\"Bi_LI1MD_mm\",\"Bi_LI2MD_mm\"]]\n\n#Drop NA\nIncisors.dropna(axis=0,how='any',thresh=None,subset=None,inplace=True)\n\n#How can we make sure the subsetting worked? \n#put your answer here\nIncisors.head(10)\n\n#Time for pretty pictures\nplt.boxplot(Incisors, notch='True', patch_artist=True, labels=['Upper_Central','Upper_Lateral','Lower_Central','Lower_Lateral'])",
            "execution_count": null,
            "outputs": []
        },
        {
            "metadata": {},
            "cell_type": "code",
            "source": "#Lets say we want to look at the %Completion value for incisors only by Ancestry\n\ndf['Incisors_Comp%']=((df[[\"Bi_UI1MD_mm\",\"Bi_UI2MD_mm\",\"Bi_LI1MD_mm\",\"Bi_LI2MD_mm\"]].count(axis=1))/4)*100\ndf.head(5)\n\nsns.catplot(\"Ancestry\", col=\"Incisors_Comp%\", hue=\"Sex\", col_wrap=5, data=df, kind=\"count\", height=5.5, aspect=0.9, palette='BuPu')\n#Find hue palettes here: https://medium.com/@morganjonesartist/color-guide-to-seaborn-palettes-da849406d44f",
            "execution_count": null,
            "outputs": []
        },
        {
            "metadata": {
                "scrolled": false
            },
            "cell_type": "code",
            "source": "#Cool, let's do it by age! Let's do the number of people by ancestry\nsns.catplot(\"Ancestry\", col=\"Age_Group\", col_wrap=3, data=df, kind=\"count\", height=5.5, aspect=0.9, palette='tab20')",
            "execution_count": null,
            "outputs": []
        },
        {
            "metadata": {},
            "cell_type": "code",
            "source": "#Cool, let's dissect this a little bit more. Let's do a violin plot so we can use continuous age! Let's also add in sex and region\nsns.catplot(x=\"Age_Clean_yr\", y=\"Region\", hue=\"Sex\", col=\"Ancestry\", data=df, orient=\"h\", kind=\"violin\", height=5.5, aspect=1, palette='bwr_r', dodge=True, bw=.2)",
            "execution_count": null,
            "outputs": []
        },
        {
            "metadata": {},
            "cell_type": "markdown",
            "source": "# Now let's focus on relational plots with continuous data"
        },
        {
            "metadata": {},
            "cell_type": "code",
            "source": "#Scatter plot\nplt.scatter(df['Bi_UI1MD_mm'], df['Bi_UI1BL_mm'])",
            "execution_count": null,
            "outputs": []
        },
        {
            "metadata": {},
            "cell_type": "code",
            "source": "#Lets combine histos and scatters!\nsns.jointplot(data=df, x='Bi_UI1MD_mm', y='Bi_UI1BL_mm', kind=\"reg\")",
            "execution_count": null,
            "outputs": []
        },
        {
            "metadata": {
                "scrolled": false
            },
            "cell_type": "code",
            "source": "#Regression plot with line, Upper first molar BL and MD measurements\nregplot = sns.lmplot(x=\"Bi_UM1BL_mm\", y=\"Bi_UM1MD_mm\", hue=\"Sex\", data=df, height=7, aspect=1.6, robust=True, palette='cubehelix_r', scatter_kws=dict(s=60, linewidths=.7, edgecolors='black'))\n#Note: if you are working with ordinal data, you might find it useful to do a jitterplot instead",
            "execution_count": null,
            "outputs": []
        },
        {
            "metadata": {},
            "cell_type": "code",
            "source": "#Regression plot with line, Lower first molar BL and MD measurements\nregplot = sns.lmplot(x=\"Bi_LM1BL_mm\", y=\"Bi_LM1MD_mm\", hue=\"Sex\", data=df, height=7, aspect=1.6, robust=True, palette='cubehelix_r', scatter_kws=dict(s=60, linewidths=.7, edgecolors='black'))",
            "execution_count": null,
            "outputs": []
        },
        {
            "metadata": {
                "scrolled": false
            },
            "cell_type": "code",
            "source": "#Size is always an issue with biological data. We don't want to be biased by size, so lets make some indices and plot those instead\n\n#make an index of the BL and MD dimension of the first upper molar\ndf['M1U_index']=df['Bi_UM1BL_mm']/df['Bi_UM1MD_mm']\ndf['M1L_index']=df['Bi_LM1BL_mm']/df['Bi_LM1MD_mm']\n\nregplot = sns.lmplot(x=\"M1U_index\", y=\"M1L_index\", hue=\"Sex\", data=df, height=7, aspect=1.6, robust=True, palette='cubehelix_r', scatter_kws=dict(s=60, linewidths=.7, edgecolors='black'))",
            "execution_count": null,
            "outputs": []
        },
        {
            "metadata": {},
            "cell_type": "code",
            "source": "#Regression plot with partitioned data\n#1 subset data\ndf_fem=df[df.Sex==\"F\"]\ndf_m=df[df.Sex==\"M\"]\n\n#Make regression plot on subsetted data -- females\nregplot = sns.lmplot(x=\"Bi_UM2MD_mm\", y=\"Bi_UM1MD_mm\", hue=\"Ancestry\", data=df_fem, height=7, aspect=1.6, robust=True, palette='tab10', scatter_kws=dict(s=60, linewidths=.7, edgecolors='black'))\nplt.title('Females')\n\n#Make regression plot on subsetted data -- females\nregplot = sns.lmplot(x=\"Bi_UM2MD_mm\", y=\"Bi_UM1MD_mm\", hue=\"Ancestry\", data=df_m, height=7, aspect=1.6, robust=True, palette='tab10', scatter_kws=dict(s=60, linewidths=.7, edgecolors='black'))\nplt.title('Males')",
            "execution_count": null,
            "outputs": []
        },
        {
            "metadata": {
                "scrolled": false
            },
            "cell_type": "code",
            "source": "#Make regression plot for age, sex\nregplot = sns.lmplot(x=\"Age_Clean_yr\", y=\"Completion_%\", hue=\"Sex\", data=df, height=7, aspect=1.6, robust=True, palette='cool', scatter_kws=dict(s=60, linewidths=.7, edgecolors='black'))",
            "execution_count": null,
            "outputs": []
        },
        {
            "metadata": {
                "scrolled": false
            },
            "cell_type": "code",
            "source": "#Make regression plot for age, ancestry\nregplot = sns.lmplot(x=\"Age_Clean_yr\", y=\"Completion_%\", hue=\"Ancestry\", data=df, height=7, aspect=1.6, robust=True, palette='tab10', scatter_kws=dict(s=60, linewidths=.7, edgecolors='black'))",
            "execution_count": null,
            "outputs": []
        },
        {
            "metadata": {},
            "cell_type": "markdown",
            "source": "Explore some of the relationships between variables that you're interested in"
        },
        {
            "metadata": {},
            "cell_type": "code",
            "source": "",
            "execution_count": null,
            "outputs": []
        },
        {
            "metadata": {},
            "cell_type": "code",
            "source": "",
            "execution_count": null,
            "outputs": []
        },
        {
            "metadata": {},
            "cell_type": "code",
            "source": "",
            "execution_count": null,
            "outputs": []
        }
    ],
    "metadata": {
        "kernelspec": {
            "name": "python3",
            "display_name": "Python 3.9",
            "language": "python"
        },
        "language_info": {
            "name": "python",
            "version": "3.9.7",
            "mimetype": "text/x-python",
            "codemirror_mode": {
                "name": "ipython",
                "version": 3
            },
            "pygments_lexer": "ipython3",
            "nbconvert_exporter": "python",
            "file_extension": ".py"
        }
    },
    "nbformat": 4,
    "nbformat_minor": 1
}